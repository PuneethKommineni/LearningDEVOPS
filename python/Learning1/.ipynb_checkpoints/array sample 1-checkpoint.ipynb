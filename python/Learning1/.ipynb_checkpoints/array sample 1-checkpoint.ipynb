{
 "cells": [
  {
   "cell_type": "code",
   "execution_count": 9,
   "id": "dc8db23a",
   "metadata": {},
   "outputs": [
    {
     "name": "stdout",
     "output_type": "stream",
     "text": [
      "10\n",
      "Maximum element in the array 128\n",
      "Length of array is 8\n"
     ]
    }
   ],
   "source": [
    "#!/usr/bin/env python3\n",
    "arr = [10, -2, -44, 5, 55, 44, 128, -200]\n",
    "max = arr[0]\n",
    "print(max)\n",
    "for x in arr:\n",
    "    if x > max:\n",
    "       max = x\n",
    "print(\"Maximum element in the array\", max)\n",
    "print(\"Length of array is\", len(arr))\n"
   ]
  },
  {
   "cell_type": "code",
   "execution_count": null,
   "id": "f3d69a87",
   "metadata": {},
   "outputs": [],
   "source": []
  },
  {
   "cell_type": "code",
   "execution_count": null,
   "id": "01715810",
   "metadata": {},
   "outputs": [],
   "source": []
  },
  {
   "cell_type": "code",
   "execution_count": null,
   "id": "6a524772",
   "metadata": {},
   "outputs": [],
   "source": []
  }
 ],
 "metadata": {
  "kernelspec": {
   "display_name": "Python 3",
   "language": "python",
   "name": "python3"
  },
  "language_info": {
   "codemirror_mode": {
    "name": "ipython",
    "version": 3
   },
   "file_extension": ".py",
   "mimetype": "text/x-python",
   "name": "python",
   "nbconvert_exporter": "python",
   "pygments_lexer": "ipython3",
   "version": "3.8.8"
  }
 },
 "nbformat": 4,
 "nbformat_minor": 5
}
