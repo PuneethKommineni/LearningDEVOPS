{
 "cells": [
  {
   "cell_type": "code",
   "execution_count": 13,
   "id": "8870ddc8",
   "metadata": {},
   "outputs": [
    {
     "name": "stdout",
     "output_type": "stream",
     "text": [
      "100\n",
      "maximum element in the array 800\n",
      "length of array is  8\n"
     ]
    }
   ],
   "source": [
    "arr=[100,50,-20,-600,800,43,45,86]\n",
    "max=arr[0]\n",
    "print(max)\n",
    "for x in arr:\n",
    "    if x > max:\n",
    "        max = x\n",
    "print(\"maximum element in the array\",max)\n",
    "print(\"length of array is \",len(arr))\n",
    "    \n",
    "    "
   ]
  },
  {
   "cell_type": "code",
   "execution_count": null,
   "id": "09a17829",
   "metadata": {},
   "outputs": [],
   "source": []
  },
  {
   "cell_type": "code",
   "execution_count": null,
   "id": "b234b8dc",
   "metadata": {},
   "outputs": [],
   "source": []
  },
  {
   "cell_type": "code",
   "execution_count": null,
   "id": "33000ba7",
   "metadata": {},
   "outputs": [],
   "source": []
  }
 ],
 "metadata": {
  "kernelspec": {
   "display_name": "Python 3",
   "language": "python",
   "name": "python3"
  },
  "language_info": {
   "codemirror_mode": {
    "name": "ipython",
    "version": 3
   },
   "file_extension": ".py",
   "mimetype": "text/x-python",
   "name": "python",
   "nbconvert_exporter": "python",
   "pygments_lexer": "ipython3",
   "version": "3.8.8"
  }
 },
 "nbformat": 4,
 "nbformat_minor": 5
}
